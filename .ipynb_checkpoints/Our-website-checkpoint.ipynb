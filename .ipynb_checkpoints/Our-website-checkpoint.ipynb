{
 "cells": [
  {
   "cell_type": "code",
   "execution_count": 13,
   "metadata": {},
   "outputs": [
    {
     "name": "stdout",
     "output_type": "stream",
     "text": [
      "C:\\Users\\brian\\OneDrive - University of Tennessee\\Desktop\\Research\\Python program\\Our_website\n",
      "already exists\n"
     ]
    },
    {
     "data": {
      "text/html": [
       "\n",
       "        <iframe\n",
       "            width=\"100%\"\n",
       "            height=\"650\"\n",
       "            src=\"http://127.0.0.1:8050/\"\n",
       "            frameborder=\"0\"\n",
       "            allowfullscreen\n",
       "        ></iframe>\n",
       "        "
      ],
      "text/plain": [
       "<IPython.lib.display.IFrame at 0x1ccc11409c8>"
      ]
     },
     "metadata": {},
     "output_type": "display_data"
    }
   ],
   "source": [
    "### This program for Kiman and Abby to utilize the internet space for jobs, projects, and data visualizations. ###\n",
    "\n",
    "\n",
    "import dash\n",
    "from dash import dcc\n",
    "from dash import State\n",
    "from dash import html\n",
    "from dash.dependencies import Input, Output\n",
    "import pandas as pd\n",
    "import numpy as np\n",
    "import plotly.graph_objs as go\n",
    "import plotly.express as px\n",
    "import os\n",
    "import re\n",
    "import sys\n",
    "import fnmatch\n",
    "import matplotlib.pyplot as plt\n",
    "import base64\n",
    "import dash_bootstrap_components as dbc\n",
    "\n",
    "cwd = os.getcwd()\n",
    "print(cwd)\n",
    "file_path = cwd+'\\download'\n",
    "try:\n",
    "    os.mkdir(file_path)\n",
    "except:\n",
    "    print('already exists')\n",
    "\n",
    "\n",
    "app = dash.Dash(external_stylesheets=[dbc.themes.LUX])\n",
    "\n",
    "server = app.server\n",
    "\n",
    "app.title = \"Kiman and Abby Park\"\n",
    "app.style = {'textAlign':'center','color':'#503D36','font-size':24}\n",
    "#---------------------------------------------------------------------------------\n",
    "\n",
    "app.layout = html.Div([\n",
    "    html.H1(\"Kiman and Abby Park\", style={'textAlign': 'center', 'color': '#3E57B0','font-size':50}),\n",
    "    html.H2(\"Our Story:\", style={'textAlign': 'center', 'color': '#FF8903'}),\n",
    "    html.P(\"This is our story! We have so much to show and tell!\", \n",
    "           style={'textAlign':'center'}),\n",
    "\n",
    "    \n",
    "])\n",
    "\n",
    "\n",
    "    \n",
    "    \n",
    "if __name__ == '__main__':\n",
    "    app.run_server(debug=True)\n",
    "\n",
    "\n"
   ]
  }
 ],
 "metadata": {
  "kernelspec": {
   "display_name": "Python 3",
   "language": "python",
   "name": "python3"
  },
  "language_info": {
   "codemirror_mode": {
    "name": "ipython",
    "version": 3
   },
   "file_extension": ".py",
   "mimetype": "text/x-python",
   "name": "python",
   "nbconvert_exporter": "python",
   "pygments_lexer": "ipython3",
   "version": "3.7.4"
  }
 },
 "nbformat": 4,
 "nbformat_minor": 2
}
