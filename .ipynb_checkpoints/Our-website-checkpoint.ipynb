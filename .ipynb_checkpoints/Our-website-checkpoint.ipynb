{
 "cells": [
  {
   "cell_type": "code",
   "execution_count": 31,
   "metadata": {},
   "outputs": [
    {
     "ename": "NoLayoutException",
     "evalue": "Layout must be a dash component or a function that returns a dash component.",
     "output_type": "error",
     "traceback": [
      "\u001b[1;31m---------------------------------------------------------------------------\u001b[0m",
      "\u001b[1;31mNoLayoutException\u001b[0m                         Traceback (most recent call last)",
      "\u001b[1;32m<ipython-input-31-083483da1f5d>\u001b[0m in \u001b[0;36m<module>\u001b[1;34m\u001b[0m\n\u001b[0;32m     29\u001b[0m                 ) for page in dash.page_registry.values() if not page[\"path\"].startswith(\"/projects\")\n\u001b[0;32m     30\u001b[0m                 ]),\n\u001b[1;32m---> 31\u001b[1;33m             \u001b[0mdash\u001b[0m\u001b[1;33m.\u001b[0m\u001b[0mpage_container\u001b[0m\u001b[1;33m\u001b[0m\u001b[1;33m\u001b[0m\u001b[0m\n\u001b[0m\u001b[0;32m     32\u001b[0m     ]),\n\u001b[0;32m     33\u001b[0m style={\n",
      "\u001b[1;32m~\\Anaconda3\\lib\\site-packages\\dash\\dash.py\u001b[0m in \u001b[0;36mlayout\u001b[1;34m(self, value)\u001b[0m\n\u001b[0;32m    635\u001b[0m     \u001b[1;33m@\u001b[0m\u001b[0mlayout\u001b[0m\u001b[1;33m.\u001b[0m\u001b[0msetter\u001b[0m\u001b[1;33m\u001b[0m\u001b[1;33m\u001b[0m\u001b[0m\n\u001b[0;32m    636\u001b[0m     \u001b[1;32mdef\u001b[0m \u001b[0mlayout\u001b[0m\u001b[1;33m(\u001b[0m\u001b[0mself\u001b[0m\u001b[1;33m,\u001b[0m \u001b[0mvalue\u001b[0m\u001b[1;33m)\u001b[0m\u001b[1;33m:\u001b[0m\u001b[1;33m\u001b[0m\u001b[1;33m\u001b[0m\u001b[0m\n\u001b[1;32m--> 637\u001b[1;33m         \u001b[0m_validate\u001b[0m\u001b[1;33m.\u001b[0m\u001b[0mvalidate_layout_type\u001b[0m\u001b[1;33m(\u001b[0m\u001b[0mvalue\u001b[0m\u001b[1;33m)\u001b[0m\u001b[1;33m\u001b[0m\u001b[1;33m\u001b[0m\u001b[0m\n\u001b[0m\u001b[0;32m    638\u001b[0m         \u001b[0mself\u001b[0m\u001b[1;33m.\u001b[0m\u001b[0m_layout_is_function\u001b[0m \u001b[1;33m=\u001b[0m \u001b[0mcallable\u001b[0m\u001b[1;33m(\u001b[0m\u001b[0mvalue\u001b[0m\u001b[1;33m)\u001b[0m\u001b[1;33m\u001b[0m\u001b[1;33m\u001b[0m\u001b[0m\n\u001b[0;32m    639\u001b[0m         \u001b[0mself\u001b[0m\u001b[1;33m.\u001b[0m\u001b[0m_layout\u001b[0m \u001b[1;33m=\u001b[0m \u001b[0mvalue\u001b[0m\u001b[1;33m\u001b[0m\u001b[1;33m\u001b[0m\u001b[0m\n",
      "\u001b[1;32m~\\Anaconda3\\lib\\site-packages\\dash\\_validate.py\u001b[0m in \u001b[0;36mvalidate_layout_type\u001b[1;34m(value)\u001b[0m\n\u001b[0;32m    393\u001b[0m     \u001b[1;32mif\u001b[0m \u001b[1;32mnot\u001b[0m \u001b[0misinstance\u001b[0m\u001b[1;33m(\u001b[0m\u001b[0mvalue\u001b[0m\u001b[1;33m,\u001b[0m \u001b[1;33m(\u001b[0m\u001b[0mComponent\u001b[0m\u001b[1;33m,\u001b[0m \u001b[0mpatch_collections_abc\u001b[0m\u001b[1;33m(\u001b[0m\u001b[1;34m\"Callable\"\u001b[0m\u001b[1;33m)\u001b[0m\u001b[1;33m)\u001b[0m\u001b[1;33m)\u001b[0m\u001b[1;33m:\u001b[0m\u001b[1;33m\u001b[0m\u001b[1;33m\u001b[0m\u001b[0m\n\u001b[0;32m    394\u001b[0m         raise exceptions.NoLayoutException(\n\u001b[1;32m--> 395\u001b[1;33m             \u001b[1;34m\"Layout must be a dash component \"\u001b[0m\u001b[1;33m\u001b[0m\u001b[1;33m\u001b[0m\u001b[0m\n\u001b[0m\u001b[0;32m    396\u001b[0m             \u001b[1;34m\"or a function that returns a dash component.\"\u001b[0m\u001b[1;33m\u001b[0m\u001b[1;33m\u001b[0m\u001b[0m\n\u001b[0;32m    397\u001b[0m         )\n",
      "\u001b[1;31mNoLayoutException\u001b[0m: Layout must be a dash component or a function that returns a dash component."
     ]
    }
   ],
   "source": [
    "### This program for Kiman and Abby to utilize the internet space for jobs, projects, and data visualizations. ###\n",
    "\n",
    "\n",
    "import dash\n",
    "from dash import dcc,html\n",
    "from dash.dependencies import Input, Output\n",
    "import dash_bootstrap_components as dbc\n",
    "import os\n",
    "\n",
    "\n",
    "app = dash.Dash(external_stylesheets=[dbc.themes.LUX],pages_folder=\"/opt/render/project/src/pages\")\n",
    "\n",
    "server = app.server\n",
    "\n",
    "app.title = \"Kiman and Abby Park\"\n",
    "app.style = {'textAlign':'center','color':'#503D36','font-size':24}\n",
    "#---------------------------------------------------------------------------------\n",
    "\n",
    "background = 'https://github.com/kpark11/Our-website/blob/main/assets/statistics-major.webp?raw=true'\n",
    "\n",
    "app.layout = html.Div([\n",
    "    \n",
    "    \n",
    "        \n",
    "    html.H1(\"Kiman and Abby Park\", style={'textAlign': 'center', 'color': '#3E57B0','font-size':50}), \n",
    "        html.Div([\n",
    "            html.Div(\n",
    "                dcc.Link(f\"{page['name']}\", href=page[\"path\"])\n",
    "                ) for page in dash.page_registry.values() if not page[\"path\"].startswith(\"/projects\")\n",
    "                ]),\n",
    "            dash.page_container\n",
    "    ]),\n",
    "style={\n",
    "      'verticalAlign':'middle',\n",
    "      'textAlign': 'center',\n",
    "      'background-image':background,\n",
    "      'position':'fixed',\n",
    "      'width':'100%',\n",
    "      'height':'100%',\n",
    "      'top':'0px',\n",
    "      'left':'0px',\n",
    "      'z-index':'1',\n",
    "      'opacity': '0.2'\n",
    "        }\n",
    "    \n",
    "    \n",
    "if __name__ == '__main__':\n",
    "    app.run_server(debug=True)\n",
    "\n"
   ]
  }
 ],
 "metadata": {
  "kernelspec": {
   "display_name": "Python 3",
   "language": "python",
   "name": "python3"
  },
  "language_info": {
   "codemirror_mode": {
    "name": "ipython",
    "version": 3
   },
   "file_extension": ".py",
   "mimetype": "text/x-python",
   "name": "python",
   "nbconvert_exporter": "python",
   "pygments_lexer": "ipython3",
   "version": "3.7.4"
  }
 },
 "nbformat": 4,
 "nbformat_minor": 2
}
