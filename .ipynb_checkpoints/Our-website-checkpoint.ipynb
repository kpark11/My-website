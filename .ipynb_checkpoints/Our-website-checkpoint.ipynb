{
 "cells": [
  {
   "cell_type": "code",
   "execution_count": 21,
   "metadata": {},
   "outputs": [
    {
     "ename": "SyntaxError",
     "evalue": "invalid syntax (<ipython-input-21-f5daecd477d7>, line 53)",
     "output_type": "error",
     "traceback": [
      "\u001b[1;36m  File \u001b[1;32m\"<ipython-input-21-f5daecd477d7>\"\u001b[1;36m, line \u001b[1;32m53\u001b[0m\n\u001b[1;33m    style={'textAlign': 'center', 'color': '#FF8903'}\u001b[0m\n\u001b[1;37m         ^\u001b[0m\n\u001b[1;31mSyntaxError\u001b[0m\u001b[1;31m:\u001b[0m invalid syntax\n"
     ]
    }
   ],
   "source": [
    "### This program for Kiman and Abby to utilize the internet space for jobs, projects, and data visualizations. ###\n",
    "\n",
    "\n",
    "import dash\n",
    "from dash import dcc,State,html\n",
    "from dash.dependencies import Input, Output\n",
    "import pandas as pd\n",
    "import numpy as np\n",
    "import plotly.graph_objs as go\n",
    "import plotly.express as px\n",
    "import os\n",
    "import re\n",
    "import sys\n",
    "import fnmatch\n",
    "import matplotlib.pyplot as plt\n",
    "import base64\n",
    "import dash_bootstrap_components as dbc\n",
    "\n",
    "\n",
    "\n",
    "image_path = 'https://github.com/kpark11/Our-website/blob/main/assets/Kiman-Abby.jpeg?raw=true'\n",
    "\n",
    "app = dash.Dash(external_stylesheets=[dbc.themes.LUX],pages_folder=\"/opt/render/project/src/pages\")\n",
    "\n",
    "server = app.server\n",
    "\n",
    "app.title = \"Kiman and Abby Park\"\n",
    "app.style = {'textAlign':'center','color':'#503D36','font-size':24}\n",
    "#---------------------------------------------------------------------------------\n",
    "\n",
    "app.layout = html.Div([\n",
    "    html.H1(\"Kiman and Abby Park\", style={'textAlign': 'center', 'color': '#3E57B0','font-size':50}),\n",
    "    html.H2(\"Our Story:\", style={'textAlign': 'center', 'color': '#FF8903'}),\n",
    "    html.P(\"This is our story! We have so much to show and tell!\", \n",
    "           style={'textAlign':'center'}),\n",
    "    html.Img(src=image_path,#app.get_asset_url('Kiman-Abby.jpeg'),\n",
    "        style={'width': 500, #'98%''\n",
    "                'height': 400, #'60px'\n",
    "                'borderRadius': \"5px\",\n",
    "                'textAlign': \"center\",\n",
    "                'margin': \"0 auto\",\n",
    "               'display': 'block',\n",
    "              'margin-left': 'auto',\n",
    "              'margin-right': 'auto'}),\n",
    "    \n",
    "    html.Div([\n",
    "        #html.Div(\n",
    "             dcc.Link(f\"{page['name']} - {page['path']}\", href=page[\"relative_path\"])\n",
    "                #) \n",
    "                      for page in dash.page_registry.values()\n",
    "            ]),\n",
    "            dash.page_container,\n",
    "            style={'textAlign': 'center', 'color': '#FF8903'}\n",
    "    ])\n",
    "\n",
    "    \n",
    "    \n",
    "if __name__ == '__main__':\n",
    "    app.run_server(debug=True)\n",
    "\n"
   ]
  }
 ],
 "metadata": {
  "kernelspec": {
   "display_name": "Python 3",
   "language": "python",
   "name": "python3"
  },
  "language_info": {
   "codemirror_mode": {
    "name": "ipython",
    "version": 3
   },
   "file_extension": ".py",
   "mimetype": "text/x-python",
   "name": "python",
   "nbconvert_exporter": "python",
   "pygments_lexer": "ipython3",
   "version": "3.7.4"
  }
 },
 "nbformat": 4,
 "nbformat_minor": 2
}
