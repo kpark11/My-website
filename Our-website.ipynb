{
 "cells": [
  {
   "cell_type": "code",
   "execution_count": 18,
   "metadata": {},
   "outputs": [
    {
     "data": {
      "text/html": [
       "\n",
       "        <iframe\n",
       "            width=\"100%\"\n",
       "            height=\"650\"\n",
       "            src=\"http://127.0.0.1:8050/\"\n",
       "            frameborder=\"0\"\n",
       "            allowfullscreen\n",
       "        ></iframe>\n",
       "        "
      ],
      "text/plain": [
       "<IPython.lib.display.IFrame at 0x20c38753908>"
      ]
     },
     "metadata": {},
     "output_type": "display_data"
    }
   ],
   "source": [
    "### This program for Kiman and Abby to utilize the internet space for jobs, projects, and data visualizations. ###\n",
    "\n",
    "\n",
    "import dash\n",
    "from dash import dcc\n",
    "from dash import State\n",
    "from dash import html\n",
    "from dash.dependencies import Input, Output\n",
    "import pandas as pd\n",
    "import numpy as np\n",
    "import plotly.graph_objs as go\n",
    "import plotly.express as px\n",
    "import os\n",
    "import re\n",
    "import sys\n",
    "import fnmatch\n",
    "import matplotlib.pyplot as plt\n",
    "import base64\n",
    "import dash_bootstrap_components as dbc\n",
    "\n",
    "\n",
    "image_path = 'https://github.com/kpark11/Our-website/tree/main/assets/Kiman-Abby.jpeg'\n",
    "\n",
    "cwd = os.getcwd()\n",
    "\n",
    "app = dash.Dash(external_stylesheets=[dbc.themes.LUX])\n",
    "\n",
    "server = app.server\n",
    "\n",
    "app.title = \"Kiman and Abby Park\"\n",
    "app.style = {'textAlign':'center','color':'#503D36','font-size':24}\n",
    "#---------------------------------------------------------------------------------\n",
    "\n",
    "app.layout = html.Div([\n",
    "    html.H1(\"Kiman and Abby Park\", style={'textAlign': 'center', 'color': '#3E57B0','font-size':50}),\n",
    "    html.H2(\"Our Story:\", style={'textAlign': 'center', 'color': '#FF8903'}),\n",
    "    html.P(\"This is our story! We have so much to show and tell!\", \n",
    "           style={'textAlign':'center'}),\n",
    "    html.Img(src=app.get_asset_url('Kiman-Abby.jpeg'),\n",
    "        style={'width': 500, #'98%''\n",
    "                'height': 400, #'60px'\n",
    "                'borderRadius': \"5px\",\n",
    "                'textAlign': \"center\",\n",
    "                'margin': \"0 auto\",\n",
    "               'display': 'block',\n",
    "              'margin-left': 'auto',\n",
    "              'margin-right': 'auto'}),\n",
    "    html.P(cwd)\n",
    "])\n",
    "\n",
    "\n",
    "    \n",
    "    \n",
    "if __name__ == '__main__':\n",
    "    app.run_server(debug=True)\n",
    "\n",
    "\n"
   ]
  }
 ],
 "metadata": {
  "kernelspec": {
   "display_name": "Python 3",
   "language": "python",
   "name": "python3"
  },
  "language_info": {
   "codemirror_mode": {
    "name": "ipython",
    "version": 3
   },
   "file_extension": ".py",
   "mimetype": "text/x-python",
   "name": "python",
   "nbconvert_exporter": "python",
   "pygments_lexer": "ipython3",
   "version": "3.7.4"
  }
 },
 "nbformat": 4,
 "nbformat_minor": 2
}
