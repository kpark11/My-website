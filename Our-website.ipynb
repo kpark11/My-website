{
 "cells": [
  {
   "cell_type": "code",
   "execution_count": 40,
   "metadata": {},
   "outputs": [
    {
     "data": {
      "text/html": [
       "\n",
       "        <iframe\n",
       "            width=\"100%\"\n",
       "            height=\"650\"\n",
       "            src=\"http://127.0.0.1:8050/\"\n",
       "            frameborder=\"0\"\n",
       "            allowfullscreen\n",
       "        ></iframe>\n",
       "        "
      ],
      "text/plain": [
       "<IPython.lib.display.IFrame at 0x279b50786c8>"
      ]
     },
     "metadata": {},
     "output_type": "display_data"
    }
   ],
   "source": [
    "### This program for Kiman and Abby to utilize the internet space for jobs, projects, and data visualizations. ###\n",
    "\n",
    "\n",
    "import dash\n",
    "from dash import dcc,html\n",
    "from dash.dependencies import Input, Output\n",
    "import dash_bootstrap_components as dbc\n",
    "import os\n",
    "\n",
    "\n",
    "app = dash.Dash(external_stylesheets=[dbc.themes.LUX],pages_folder=\"/opt/render/project/src/pages\")\n",
    "\n",
    "server = app.server\n",
    "\n",
    "background = 'https://github.com/kpark11/Our-website/blob/main/assets/statistics-major.webp?raw=true'\n",
    "\n",
    "\n",
    "app.title = \"Kiman and Abby Park\"\n",
    "app.style = {'textAlign':'center','color':'#503D36','font-size':24,\n",
    "          'background-image': 'https://github.com/kpark11/Our-website/blob/main/assets/statistics-major.webp',\n",
    "          'background-size': '100%',\n",
    "          'position': 'fixed',\n",
    "          'width': '100%',\n",
    "          'height': '100%'}\n",
    "#---------------------------------------------------------------------------------\n",
    "\n",
    "\n",
    "app.layout = html.Div([\n",
    "    \n",
    "    html.H1(\"Kiman and Abby Park\",\n",
    "            style={'textAlign': 'center', 'color': '#3E57B0','font-size':50}), \n",
    "        html.Div([\n",
    "            html.Div(\n",
    "                dcc.Link(f\"{page['name']}\", href=page[\"path\"])\n",
    "                ) for page in dash.page_registry.values() if not page[\"path\"].startswith(\"/projects\")\n",
    "                ]),\n",
    "            dash.page_container\n",
    "    ],\n",
    "        style={\n",
    "          'background-image': 'https://github.com/kpark11/Our-website/blob/main/assets/statistics-major.webp',\n",
    "          'background-size': '100%',\n",
    "          'position': 'fixed',\n",
    "          'width': '100%',\n",
    "          'height': '100%'})\n",
    "\n",
    "    \n",
    "if __name__ == '__main__':\n",
    "    app.run_server(debug=True)\n",
    "\n"
   ]
  }
 ],
 "metadata": {
  "kernelspec": {
   "display_name": "Python 3",
   "language": "python",
   "name": "python3"
  },
  "language_info": {
   "codemirror_mode": {
    "name": "ipython",
    "version": 3
   },
   "file_extension": ".py",
   "mimetype": "text/x-python",
   "name": "python",
   "nbconvert_exporter": "python",
   "pygments_lexer": "ipython3",
   "version": "3.7.4"
  }
 },
 "nbformat": 4,
 "nbformat_minor": 2
}
