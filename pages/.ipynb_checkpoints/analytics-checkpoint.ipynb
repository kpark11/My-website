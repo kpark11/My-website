{
 "cells": [
  {
   "cell_type": "code",
   "execution_count": 1,
   "metadata": {},
   "outputs": [
    {
     "ename": "PageError",
     "evalue": "`dash.register_page()` must be called after app instantiation",
     "output_type": "error",
     "traceback": [
      "\u001b[1;31m---------------------------------------------------------------------------\u001b[0m",
      "\u001b[1;31mPageError\u001b[0m                                 Traceback (most recent call last)",
      "\u001b[1;32m<ipython-input-1-9199ef17a9d4>\u001b[0m in \u001b[0;36m<module>\u001b[1;34m\u001b[0m\n\u001b[0;32m      2\u001b[0m \u001b[1;32mfrom\u001b[0m \u001b[0mdash\u001b[0m \u001b[1;32mimport\u001b[0m \u001b[0mhtml\u001b[0m\u001b[1;33m,\u001b[0m \u001b[0mdcc\u001b[0m\u001b[1;33m,\u001b[0m \u001b[0mcallback\u001b[0m\u001b[1;33m,\u001b[0m \u001b[0mInput\u001b[0m\u001b[1;33m,\u001b[0m \u001b[0mOutput\u001b[0m\u001b[1;33m\u001b[0m\u001b[1;33m\u001b[0m\u001b[0m\n\u001b[0;32m      3\u001b[0m \u001b[1;33m\u001b[0m\u001b[0m\n\u001b[1;32m----> 4\u001b[1;33m \u001b[0mdash\u001b[0m\u001b[1;33m.\u001b[0m\u001b[0mregister_page\u001b[0m\u001b[1;33m(\u001b[0m\u001b[0m__name__\u001b[0m\u001b[1;33m)\u001b[0m\u001b[1;33m\u001b[0m\u001b[1;33m\u001b[0m\u001b[0m\n\u001b[0m\u001b[0;32m      5\u001b[0m \u001b[1;33m\u001b[0m\u001b[0m\n\u001b[0;32m      6\u001b[0m layout = html.Div([\n",
      "\u001b[1;32m~\\Anaconda3\\lib\\site-packages\\dash\\_pages.py\u001b[0m in \u001b[0;36mregister_page\u001b[1;34m(module, path, path_template, name, order, title, description, image, image_url, redirect_from, layout, **kwargs)\u001b[0m\n\u001b[0;32m    308\u001b[0m         \u001b[1;32mreturn\u001b[0m\u001b[1;33m\u001b[0m\u001b[1;33m\u001b[0m\u001b[0m\n\u001b[0;32m    309\u001b[0m \u001b[1;33m\u001b[0m\u001b[0m\n\u001b[1;32m--> 310\u001b[1;33m     \u001b[0m_validate\u001b[0m\u001b[1;33m.\u001b[0m\u001b[0mvalidate_use_pages\u001b[0m\u001b[1;33m(\u001b[0m\u001b[0mCONFIG\u001b[0m\u001b[1;33m)\u001b[0m\u001b[1;33m\u001b[0m\u001b[1;33m\u001b[0m\u001b[0m\n\u001b[0m\u001b[0;32m    311\u001b[0m \u001b[1;33m\u001b[0m\u001b[0m\n\u001b[0;32m    312\u001b[0m     page = dict(\n",
      "\u001b[1;32m~\\Anaconda3\\lib\\site-packages\\dash\\_validate.py\u001b[0m in \u001b[0;36mvalidate_use_pages\u001b[1;34m(config)\u001b[0m\n\u001b[0;32m    473\u001b[0m     \u001b[1;32mif\u001b[0m \u001b[1;32mnot\u001b[0m \u001b[0mconfig\u001b[0m\u001b[1;33m.\u001b[0m\u001b[0mget\u001b[0m\u001b[1;33m(\u001b[0m\u001b[1;34m\"assets_folder\"\u001b[0m\u001b[1;33m,\u001b[0m \u001b[1;32mNone\u001b[0m\u001b[1;33m)\u001b[0m\u001b[1;33m:\u001b[0m\u001b[1;33m\u001b[0m\u001b[1;33m\u001b[0m\u001b[0m\n\u001b[0;32m    474\u001b[0m         raise exceptions.PageError(\n\u001b[1;32m--> 475\u001b[1;33m             \u001b[1;34m\"`dash.register_page()` must be called after app instantiation\"\u001b[0m\u001b[1;33m\u001b[0m\u001b[1;33m\u001b[0m\u001b[0m\n\u001b[0m\u001b[0;32m    476\u001b[0m         )\n\u001b[0;32m    477\u001b[0m \u001b[1;33m\u001b[0m\u001b[0m\n",
      "\u001b[1;31mPageError\u001b[0m: `dash.register_page()` must be called after app instantiation"
     ]
    }
   ],
   "source": [
    "import dash\n",
    "from dash import html, dcc, callback, Input, Output\n",
    "\n",
    "dash.register_page(__name__)\n",
    "\n",
    "layout = html.Div([\n",
    "    html.H1('This is our Analytics page'),\n",
    "    html.Div([\n",
    "        \"Select a city: \",\n",
    "        dcc.RadioItems(\n",
    "            options=['New York City', 'Montreal', 'San Francisco'],\n",
    "            value='Montreal',\n",
    "            id='analytics-input'\n",
    "        )\n",
    "    ]),\n",
    "    html.Br(),\n",
    "    html.Div(id='analytics-output'),\n",
    "])\n",
    "\n",
    "\n",
    "@callback(\n",
    "    Output('analytics-output', 'children'),\n",
    "    Input('analytics-input', 'value')\n",
    ")\n",
    "def update_city_selected(input_value):\n",
    "    return f'You selected: {input_value}'"
   ]
  }
 ],
 "metadata": {
  "kernelspec": {
   "display_name": "Python 3",
   "language": "python",
   "name": "python3"
  },
  "language_info": {
   "codemirror_mode": {
    "name": "ipython",
    "version": 3
   },
   "file_extension": ".py",
   "mimetype": "text/x-python",
   "name": "python",
   "nbconvert_exporter": "python",
   "pygments_lexer": "ipython3",
   "version": "3.7.4"
  }
 },
 "nbformat": 4,
 "nbformat_minor": 2
}
